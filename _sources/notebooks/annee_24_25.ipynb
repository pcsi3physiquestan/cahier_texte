{
 "cells": [
  {
   "cell_type": "markdown",
   "id": "870d4396",
   "metadata": {},
   "source": [
    "# Année 2024-2025\n",
    "Ressources utiles pour l'année :\n",
    "* [Plateforme Moodle](https://moodlecpge.stanislas.fr/). Les cours concernées sont les cours [LACPATIA - Physique - Cours](https://moodlecpge.stanislas.fr/course/view.php?id=2) et [LACPATIA - Physique - Travaux pratiques ](https://moodlecpge.stanislas.fr/course/view.php?id=3)\n",
    "* Les colloscopes : 1er semestre et 2nd semestre (à venir)"
   ]
  }
 ],
 "metadata": {
  "jupytext": {
   "encoding": "# -*- coding: utf-8 -*-",
   "formats": "ipynb,md:myst",
   "split_at_heading": true,
   "text_representation": {
    "extension": ".md",
    "format_name": "myst",
    "format_version": 0.13,
    "jupytext_version": "1.10.3"
   }
  },
  "kernelspec": {
   "display_name": "Python 3",
   "language": "python",
   "name": "python3"
  },
  "language_info": {
   "codemirror_mode": {
    "name": "ipython",
    "version": 3
   },
   "file_extension": ".py",
   "mimetype": "text/x-python",
   "name": "python",
   "nbconvert_exporter": "python",
   "pygments_lexer": "ipython3",
   "version": "3.9.15"
  },
  "source_map": [
   15
  ]
 },
 "nbformat": 4,
 "nbformat_minor": 5
}