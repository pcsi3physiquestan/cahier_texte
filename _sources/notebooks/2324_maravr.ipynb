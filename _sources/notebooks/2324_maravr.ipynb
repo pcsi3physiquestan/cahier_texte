{
 "cells": [
  {
   "cell_type": "markdown",
   "id": "13369edd",
   "metadata": {},
   "source": [
    "# Mars - Avril\n",
    "\n",
    "## Semaine 22\n",
    "### Lundi  11 mars 2024\n",
    "```{sidebar} Travail à faire\n",
    "Pour le :\n",
    "\n",
    "```\n",
    "### Jeudi  14 mars 2024\n",
    "```{sidebar} Travail à faire\n",
    "Pour le :\n",
    "\n",
    "```\n",
    "### Vendredi  15 mars 2024\n",
    "```{sidebar} Travail à faire\n",
    "Pour le :\n",
    "\n",
    "```\n",
    "## Semaine 23\n",
    "### Lundi  18 mars 2024\n",
    "```{sidebar} Travail à faire\n",
    "Pour le :\n",
    "\n",
    "```\n",
    "### Jeudi  21 mars 2024\n",
    "```{sidebar} Travail à faire\n",
    "Pour le :\n",
    "\n",
    "```\n",
    "### Vendredi  22 mars 2024\n",
    "```{sidebar} Travail à faire\n",
    "Pour le :\n",
    "\n",
    "```\n",
    "## Semaine 24\n",
    "### Lundi  25 mars 2024\n",
    "```{sidebar} Travail à faire\n",
    "Pour le :\n",
    "\n",
    "```\n",
    "### Jeudi  28 mars 2024\n",
    "```{sidebar} Travail à faire\n",
    "Pour le :\n",
    "\n",
    "```\n",
    "### Vendredi  29 mars 2024\n",
    "```{sidebar} Travail à faire\n",
    "Pour le :\n",
    "\n",
    "```\n",
    "## Semaine 25\n",
    "### Lundi  1 avril 2024\n",
    "```{sidebar} Travail à faire\n",
    "Pour le :\n",
    "\n",
    "```\n",
    "### Jeudi  4 avril 2024\n",
    "```{sidebar} Travail à faire\n",
    "Pour le :\n",
    "\n",
    "```\n",
    "### Vendredi  5 avril 2024\n",
    "```{sidebar} Travail à faire\n",
    "Pour le :\n",
    "\n",
    "```"
   ]
  }
 ],
 "metadata": {
  "jupytext": {
   "encoding": "# -*- coding: utf-8 -*-",
   "formats": "ipynb,md:myst",
   "split_at_heading": true,
   "text_representation": {
    "extension": ".md",
    "format_name": "myst",
    "format_version": 0.13,
    "jupytext_version": "1.10.3"
   }
  },
  "kernelspec": {
   "display_name": "Python 3",
   "language": "python",
   "name": "python3"
  },
  "language_info": {
   "codemirror_mode": {
    "name": "ipython",
    "version": 3
   },
   "file_extension": ".py",
   "mimetype": "text/x-python",
   "name": "python",
   "nbconvert_exporter": "python",
   "pygments_lexer": "ipython3",
   "version": "3.9.15"
  },
  "source_map": [
   15
  ]
 },
 "nbformat": 4,
 "nbformat_minor": 5
}