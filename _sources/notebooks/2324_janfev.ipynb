{
 "cells": [
  {
   "cell_type": "markdown",
   "id": "aeac0ca2",
   "metadata": {},
   "source": [
    "# Janvier - Février\n",
    "## Semaine 15\n",
    "### Lundi  8 janvier 2024\n",
    "```{sidebar} Travail à faire\n",
    "\n",
    "```\n",
    "### Jeudi  11 janvier 2024\n",
    "```{sidebar} Travail à faire\n",
    "\n",
    "```\n",
    "### Vendredi  12 janvier 2024\n",
    "```{sidebar} Travail à faire\n",
    "\n",
    "```\n",
    "## Semaine 16\n",
    "### Lundi  15 janvier 2024\n",
    "```{sidebar} Travail à faire\n",
    "\n",
    "```\n",
    "### Jeudi  18 janvier 2024\n",
    "```{sidebar} Travail à faire\n",
    "\n",
    "```\n",
    "### Vendredi  19 janvier 2024\n",
    "```{sidebar} Travail à faire\n",
    "\n",
    "```\n",
    "## Semaine 17\n",
    "### Lundi  22 janvier 2024\n",
    "```{sidebar} Travail à faire\n",
    "\n",
    "```\n",
    "### Jeudi  25 janvier 2024\n",
    "```{sidebar} Travail à faire\n",
    "\n",
    "```\n",
    "### Vendredi  26 janvier 2024\n",
    "```{sidebar} Travail à faire\n",
    "\n",
    "```\n",
    "## Semaine 18\n",
    "### Lundi  29 janvier 2024\n",
    "```{sidebar} Travail à faire\n",
    "\n",
    "```\n",
    "### Jeudi  1 février 2024\n",
    "```{sidebar} Travail à faire\n",
    "\n",
    "```\n",
    "### Vendredi  2 février 2024\n",
    "```{sidebar} Travail à faire\n",
    "\n",
    "```\n",
    "## Semaine 19\n",
    "### Lundi  5 février 2024\n",
    "```{sidebar} Travail à faire\n",
    "\n",
    "```\n",
    "### Jeudi  8 février 2024\n",
    "```{sidebar} Travail à faire\n",
    "\n",
    "```\n",
    "### Vendredi  9 février 2024\n",
    "```{sidebar} Travail à faire\n",
    "\n",
    "```"
   ]
  }
 ],
 "metadata": {
  "jupytext": {
   "encoding": "# -*- coding: utf-8 -*-",
   "formats": "ipynb,md:myst",
   "split_at_heading": true,
   "text_representation": {
    "extension": ".md",
    "format_name": "myst",
    "format_version": 0.13,
    "jupytext_version": "1.10.3"
   }
  },
  "kernelspec": {
   "display_name": "Python 3",
   "language": "python",
   "name": "python3"
  },
  "language_info": {
   "codemirror_mode": {
    "name": "ipython",
    "version": 3
   },
   "file_extension": ".py",
   "mimetype": "text/x-python",
   "name": "python",
   "nbconvert_exporter": "python",
   "pygments_lexer": "ipython3",
   "version": "3.9.15"
  },
  "source_map": [
   15
  ]
 },
 "nbformat": 4,
 "nbformat_minor": 5
}