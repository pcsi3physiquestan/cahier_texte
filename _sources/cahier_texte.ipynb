{
 "cells": [
  {
   "cell_type": "markdown",
   "id": "f4d37d46",
   "metadata": {},
   "source": [
    "# Cahier de texte\n",
    "Vous touverez ici le cahier de texte de la PCSI 3 avec :\n",
    "* les contenus abordés dans les séances de cours/TD/TP\n",
    "* le travail à faire après chaque séance\n",
    "\n",
    "Légende utile :\n",
    "* (CE) = Classe entière\n",
    "* (A) = Groupe A\n",
    "* (B) = Groupe B"
   ]
  }
 ],
 "metadata": {
  "jupytext": {
   "encoding": "# -*- coding: utf-8 -*-",
   "formats": "ipynb,md:myst",
   "split_at_heading": true,
   "text_representation": {
    "extension": ".md",
    "format_name": "myst",
    "format_version": 0.13,
    "jupytext_version": "1.10.3"
   }
  },
  "kernelspec": {
   "display_name": "Python 3",
   "language": "python",
   "name": "python3"
  },
  "language_info": {
   "codemirror_mode": {
    "name": "ipython",
    "version": 3
   },
   "file_extension": ".py",
   "mimetype": "text/x-python",
   "name": "python",
   "nbconvert_exporter": "python",
   "pygments_lexer": "ipython3",
   "version": "3.9.15"
  },
  "source_map": [
   15
  ]
 },
 "nbformat": 4,
 "nbformat_minor": 5
}